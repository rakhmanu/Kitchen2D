{
 "cells": [
  {
   "cell_type": "markdown",
   "metadata": {},
   "source": [
    "[Course](http://deeppavlov.ai/rl_course_2020) project #6."
   ]
  },
  {
   "cell_type": "markdown",
   "metadata": {},
   "source": [
    "# Problem description"
   ]
  },
  {
   "cell_type": "markdown",
   "metadata": {},
   "source": [
    "Reinforcement learning can acquire complex behaviors. When talking about reinforcement learning problem statement, it is supposed we have an environment and some agent. They communicate through actions, states and reward. States and actions are usually quite simple, and given specific agent in specific environment there's not much we can do about state or action space. As for reward, it can be defined by us. Reward design is crucial for solving the problem, but it is difficult to find some function that can  be  optimized effectively and encodes the correct task\n",
    "\n",
    "![circle](./imgs/circle.png)"
   ]
  },
  {
   "cell_type": "markdown",
   "metadata": {},
   "source": [
    "So, if we learn policy, why don't learn the reward, too?\n",
    "\n",
    "The main idea of the [paper](https://arxiv.org/pdf/1603.00448.pdf) is to have a reward (cost function in authors terms) being defined with a neural network. Cost function and policy are learned simultaneously."
   ]
  },
  {
   "cell_type": "markdown",
   "metadata": {},
   "source": [
    "# Main Idea "
   ]
  },
  {
   "cell_type": "markdown",
   "metadata": {},
   "source": [
    "This method is called 'guided costlearning' because the  policy  optimization  “guides”  the  cost  toward good regions of the space."
   ]
  },
  {
   "cell_type": "markdown",
   "metadata": {},
   "source": [
    "\"We use rich, expressive function approximators, in the form  of  neural  networks,  to  learn  cost  functions  directly on  raw  state  representations. \""
   ]
  },
  {
   "cell_type": "markdown",
   "metadata": {},
   "source": [
    "Since I don't have any expert trajectories for my environments, for demo trajectories I'll use some other good algorithm result."
   ]
  },
  {
   "cell_type": "markdown",
   "metadata": {},
   "source": [
    "# Environmemt"
   ]
  },
  {
   "cell_type": "markdown",
   "metadata": {},
   "source": [
    "At first we should make sure that our algorithm works on something simple and then to look at more complex environments. (Spoiler: for now it doesn't)\n",
    "\n",
    "1. For trial runs we use CartPole: \n",
    "    4 floats as state, 2 discrete actions\n",
    "\n",
    "2. To go deeper - Atari environments, which we later can compare to benchmarks from [here](http://htmlpreview.github.io/?https://github.com/openai/baselines/blob/master/benchmarks_atari10M.htm)"
   ]
  },
  {
   "cell_type": "markdown",
   "metadata": {},
   "source": [
    "(action and states spaces, reward function) specific aspects of env if present"
   ]
  },
  {
   "cell_type": "markdown",
   "metadata": {},
   "source": [
    "# Imports"
   ]
  },
  {
   "cell_type": "code",
   "execution_count": 32,
   "metadata": {
    "ExecuteTime": {
     "end_time": "2020-06-18T20:42:36.434729Z",
     "start_time": "2020-06-18T20:42:34.370501Z"
    }
   },
   "outputs": [],
   "source": [
    "import gym\n",
    "from gym import envs\n",
    "import random\n",
    "import matplotlib.pyplot as plt\n",
    "import torch\n",
    "\n",
    "from torch.optim.lr_scheduler import StepLR\n",
    "from IPython.display import clear_output\n",
    "\n",
    "import gcl\n",
    "\n",
    "%matplotlib inline"
   ]
  },
  {
   "cell_type": "markdown",
   "metadata": {},
   "source": [
    "# toy env cartpole "
   ]
  },
  {
   "cell_type": "markdown",
   "metadata": {},
   "source": [
    "## General settings"
   ]
  },
  {
   "cell_type": "code",
   "execution_count": 33,
   "metadata": {
    "ExecuteTime": {
     "end_time": "2020-06-18T20:42:36.486162Z",
     "start_time": "2020-06-18T20:42:36.468868Z"
    }
   },
   "outputs": [
    {
     "data": {
      "text/plain": [
       "<torch._C.Generator at 0x75c1b000cad0>"
      ]
     },
     "execution_count": 33,
     "metadata": {},
     "output_type": "execute_result"
    }
   ],
   "source": [
    "seed = 42\n",
    "random.seed(seed)\n",
    "np.random.seed(seed)\n",
    "torch.manual_seed(seed)"
   ]
  },
  {
   "cell_type": "code",
   "execution_count": 34,
   "metadata": {
    "ExecuteTime": {
     "end_time": "2020-06-18T20:42:36.505568Z",
     "start_time": "2020-06-18T20:42:36.494440Z"
    }
   },
   "outputs": [],
   "source": [
    "device = torch.device('cuda' if torch.cuda.is_available() else 'cpu')"
   ]
  },
  {
   "cell_type": "code",
   "execution_count": 35,
   "metadata": {
    "ExecuteTime": {
     "end_time": "2020-06-18T20:42:36.698029Z",
     "start_time": "2020-06-18T20:42:36.515679Z"
    }
   },
   "outputs": [
    {
     "name": "stdout",
     "output_type": "stream",
     "text": [
      "Defaulting to user installation because normal site-packages is not writeable\n",
      "Requirement already satisfied: pandas==1.5.3 in /home/ulzhalgas/.local/lib/python3.10/site-packages (1.5.3)\n",
      "Requirement already satisfied: numpy>=1.21.0 in /home/ulzhalgas/.local/lib/python3.10/site-packages (from pandas==1.5.3) (1.26.4)\n",
      "Requirement already satisfied: pytz>=2020.1 in /usr/lib/python3/dist-packages (from pandas==1.5.3) (2022.1)\n",
      "Requirement already satisfied: python-dateutil>=2.8.1 in /home/ulzhalgas/.local/lib/python3.10/site-packages (from pandas==1.5.3) (2.9.0.post0)\n",
      "Requirement already satisfied: six>=1.5 in /usr/lib/python3/dist-packages (from python-dateutil>=2.8.1->pandas==1.5.3) (1.16.0)\n",
      "Defaulting to user installation because normal site-packages is not writeable\n",
      "Requirement already satisfied: stable-baselines3 in /home/ulzhalgas/.local/lib/python3.10/site-packages (2.4.1)\n",
      "Requirement already satisfied: matplotlib in /usr/lib/python3/dist-packages (from stable-baselines3) (3.5.1)\n",
      "Requirement already satisfied: numpy<2.0,>=1.20 in /home/ulzhalgas/.local/lib/python3.10/site-packages (from stable-baselines3) (1.26.4)\n",
      "Requirement already satisfied: gymnasium<1.1.0,>=0.29.1 in /home/ulzhalgas/.local/lib/python3.10/site-packages (from stable-baselines3) (1.0.0)\n",
      "Requirement already satisfied: torch>=1.13 in /home/ulzhalgas/.local/lib/python3.10/site-packages (from stable-baselines3) (2.5.1)\n",
      "Requirement already satisfied: pandas in /home/ulzhalgas/.local/lib/python3.10/site-packages (from stable-baselines3) (1.5.3)\n",
      "Requirement already satisfied: cloudpickle in /home/ulzhalgas/.local/lib/python3.10/site-packages (from stable-baselines3) (3.1.1)\n",
      "Requirement already satisfied: typing-extensions>=4.3.0 in /home/ulzhalgas/.local/lib/python3.10/site-packages (from gymnasium<1.1.0,>=0.29.1->stable-baselines3) (4.12.2)\n",
      "Requirement already satisfied: farama-notifications>=0.0.1 in /home/ulzhalgas/.local/lib/python3.10/site-packages (from gymnasium<1.1.0,>=0.29.1->stable-baselines3) (0.0.4)\n",
      "Requirement already satisfied: fsspec in /home/ulzhalgas/.local/lib/python3.10/site-packages (from torch>=1.13->stable-baselines3) (2024.12.0)\n",
      "Requirement already satisfied: sympy==1.13.1 in /home/ulzhalgas/.local/lib/python3.10/site-packages (from torch>=1.13->stable-baselines3) (1.13.1)\n",
      "Requirement already satisfied: nvidia-cusparse-cu12==12.3.1.170 in /home/ulzhalgas/.local/lib/python3.10/site-packages (from torch>=1.13->stable-baselines3) (12.3.1.170)\n",
      "Requirement already satisfied: nvidia-nvjitlink-cu12==12.4.127 in /home/ulzhalgas/.local/lib/python3.10/site-packages (from torch>=1.13->stable-baselines3) (12.4.127)\n",
      "Requirement already satisfied: nvidia-cufft-cu12==11.2.1.3 in /home/ulzhalgas/.local/lib/python3.10/site-packages (from torch>=1.13->stable-baselines3) (11.2.1.3)\n",
      "Requirement already satisfied: nvidia-cuda-nvrtc-cu12==12.4.127 in /home/ulzhalgas/.local/lib/python3.10/site-packages (from torch>=1.13->stable-baselines3) (12.4.127)\n",
      "Requirement already satisfied: nvidia-cuda-runtime-cu12==12.4.127 in /home/ulzhalgas/.local/lib/python3.10/site-packages (from torch>=1.13->stable-baselines3) (12.4.127)\n",
      "Requirement already satisfied: nvidia-curand-cu12==10.3.5.147 in /home/ulzhalgas/.local/lib/python3.10/site-packages (from torch>=1.13->stable-baselines3) (10.3.5.147)\n",
      "Requirement already satisfied: nvidia-cudnn-cu12==9.1.0.70 in /home/ulzhalgas/.local/lib/python3.10/site-packages (from torch>=1.13->stable-baselines3) (9.1.0.70)\n",
      "Requirement already satisfied: jinja2 in /home/ulzhalgas/.local/lib/python3.10/site-packages (from torch>=1.13->stable-baselines3) (3.1.5)\n",
      "Requirement already satisfied: filelock in /home/ulzhalgas/.local/lib/python3.10/site-packages (from torch>=1.13->stable-baselines3) (3.17.0)\n",
      "Requirement already satisfied: nvidia-cublas-cu12==12.4.5.8 in /home/ulzhalgas/.local/lib/python3.10/site-packages (from torch>=1.13->stable-baselines3) (12.4.5.8)\n",
      "Requirement already satisfied: nvidia-nvtx-cu12==12.4.127 in /home/ulzhalgas/.local/lib/python3.10/site-packages (from torch>=1.13->stable-baselines3) (12.4.127)\n",
      "Requirement already satisfied: nvidia-cusolver-cu12==11.6.1.9 in /home/ulzhalgas/.local/lib/python3.10/site-packages (from torch>=1.13->stable-baselines3) (11.6.1.9)\n",
      "Requirement already satisfied: nvidia-nccl-cu12==2.21.5 in /home/ulzhalgas/.local/lib/python3.10/site-packages (from torch>=1.13->stable-baselines3) (2.21.5)\n",
      "Requirement already satisfied: triton==3.1.0 in /home/ulzhalgas/.local/lib/python3.10/site-packages (from torch>=1.13->stable-baselines3) (3.1.0)\n",
      "Requirement already satisfied: nvidia-cuda-cupti-cu12==12.4.127 in /home/ulzhalgas/.local/lib/python3.10/site-packages (from torch>=1.13->stable-baselines3) (12.4.127)\n",
      "Requirement already satisfied: networkx in /home/ulzhalgas/.local/lib/python3.10/site-packages (from torch>=1.13->stable-baselines3) (3.4.2)\n",
      "Requirement already satisfied: mpmath<1.4,>=1.1.0 in /home/ulzhalgas/.local/lib/python3.10/site-packages (from sympy==1.13.1->torch>=1.13->stable-baselines3) (1.3.0)\n",
      "Requirement already satisfied: python-dateutil>=2.8.1 in /home/ulzhalgas/.local/lib/python3.10/site-packages (from pandas->stable-baselines3) (2.9.0.post0)\n",
      "Requirement already satisfied: pytz>=2020.1 in /usr/lib/python3/dist-packages (from pandas->stable-baselines3) (2022.1)\n",
      "Requirement already satisfied: six>=1.5 in /usr/lib/python3/dist-packages (from python-dateutil>=2.8.1->pandas->stable-baselines3) (1.16.0)\n",
      "Requirement already satisfied: MarkupSafe>=2.0 in /home/ulzhalgas/.local/lib/python3.10/site-packages (from jinja2->torch>=1.13->stable-baselines3) (3.0.2)\n",
      "Defaulting to user installation because normal site-packages is not writeable\n",
      "Requirement already satisfied: gpy in /home/ulzhalgas/.local/lib/python3.10/site-packages (1.13.2)\n",
      "Requirement already satisfied: cython>=0.29 in /home/ulzhalgas/.local/lib/python3.10/site-packages (from gpy) (3.0.11)\n",
      "Requirement already satisfied: six in /usr/lib/python3/dist-packages (from gpy) (1.16.0)\n",
      "Requirement already satisfied: scipy<=1.12.0,>=1.3.0 in /usr/lib/python3/dist-packages (from gpy) (1.8.0)\n",
      "Requirement already satisfied: numpy<2.0.0,>=1.7 in /home/ulzhalgas/.local/lib/python3.10/site-packages (from gpy) (1.26.4)\n",
      "Requirement already satisfied: paramz>=0.9.6 in /home/ulzhalgas/.local/lib/python3.10/site-packages (from gpy) (0.9.6)\n",
      "Requirement already satisfied: decorator>=4.0.10 in /usr/lib/python3/dist-packages (from paramz>=0.9.6->gpy) (4.4.2)\n",
      "Defaulting to user installation because normal site-packages is not writeable\n",
      "Requirement already satisfied: pyribbit in /home/ulzhalgas/.local/lib/python3.10/site-packages (0.1.46)\n",
      "Requirement already satisfied: pyglet>=1.4.10 in /home/ulzhalgas/.local/lib/python3.10/site-packages (from pyribbit) (2.0.20)\n",
      "Requirement already satisfied: imageio in /home/ulzhalgas/.local/lib/python3.10/site-packages (from pyribbit) (2.37.0)\n",
      "Requirement already satisfied: numpy in /home/ulzhalgas/.local/lib/python3.10/site-packages (from pyribbit) (1.26.4)\n",
      "Requirement already satisfied: six in /usr/lib/python3/dist-packages (from pyribbit) (1.16.0)\n",
      "Requirement already satisfied: networkx in /home/ulzhalgas/.local/lib/python3.10/site-packages (from pyribbit) (3.4.2)\n",
      "Requirement already satisfied: freetype-py in /home/ulzhalgas/.local/lib/python3.10/site-packages (from pyribbit) (2.5.1)\n",
      "Requirement already satisfied: scipy in /usr/lib/python3/dist-packages (from pyribbit) (1.8.0)\n",
      "Requirement already satisfied: Pillow in /usr/lib/python3/dist-packages (from pyribbit) (9.0.1)\n",
      "Requirement already satisfied: PyOpenGL>=3.1.0 in /home/ulzhalgas/.local/lib/python3.10/site-packages (from pyribbit) (3.1.7)\n",
      "Requirement already satisfied: trimesh in /home/ulzhalgas/.local/lib/python3.10/site-packages (from pyribbit) (4.5.3)\n",
      "Defaulting to user installation because normal site-packages is not writeable\n",
      "Requirement already satisfied: imageio in /home/ulzhalgas/.local/lib/python3.10/site-packages (2.37.0)\n",
      "Requirement already satisfied: numpy in /home/ulzhalgas/.local/lib/python3.10/site-packages (from imageio) (1.26.4)\n",
      "Requirement already satisfied: pillow>=8.3.2 in /usr/lib/python3/dist-packages (from imageio) (9.0.1)\n",
      "Type of self.xx: <class 'numpy.ndarray'>\n",
      "Shape of self.xx: (60, 8)\n",
      "Type of self.yy: <class 'numpy.ndarray'>\n",
      "Shape of self.yy: (60, 1)\n",
      "Kernel type: <class 'GPy.kern.src.stationary.Matern52'>\n",
      "Kernel lengthscale:   \u001b[1mindex\u001b[0;0m  |  Mat52.lengthscale  |  constraints  |  priors\n",
      "  \u001b[1m[0]  \u001b[0;0m  |         0.05000000  |      +ve      |        \n",
      "  \u001b[1m[1]  \u001b[0;0m  |         1.00000000  |      +ve      |        \n",
      "  \u001b[1m[2]  \u001b[0;0m  |         0.45000000  |      +ve      |        \n",
      "  \u001b[1m[3]  \u001b[0;0m  |         0.07853982  |      +ve      |        \n",
      "  \u001b[1m[4]  \u001b[0;0m  |         0.05000000  |      +ve      |        \n",
      "  \u001b[1m[5]  \u001b[0;0m  |         0.05000000  |      +ve      |        \n",
      "  \u001b[1m[6]  \u001b[0;0m  |         0.07500000  |      +ve      |        \n",
      "  \u001b[1m[7]  \u001b[0;0m  |         0.10000000  |      +ve      |        \n",
      "\n",
      "Name : GP regression\n",
      "Objective : 87.35856779271498\n",
      "Number of Parameters : 10\n",
      "Number of Optimization Parameters : 10\n",
      "Updates : True\n",
      "Parameters:\n",
      "  \u001b[1mGP_regression.         \u001b[0;0m  |                  value  |           constraints            |  priors\n",
      "  \u001b[1mMat52.variance         \u001b[0;0m  |      1.071835590833076  |             0.1,2.0              |        \n",
      "  \u001b[1mMat52.lengthscale      \u001b[0;0m  |                   (8,)  |  {0.1,0.15} {0.1,0.5} {0.1,0.2}  |        \n",
      "  \u001b[1mGaussian_noise.variance\u001b[0;0m  |  0.0050519564606592285  |           0.0001,0.01            |        \n",
      "Warning: Cup is not vertical. Adjusting cup to a vertical position.\n",
      "Generating 10 liquid particles inside the cup\n",
      "Creating particle 0 at position: b2Vec2(-1.38697,0.7)\n",
      "Creating particle at position: b2Vec2(-1.38697,0.7)\n",
      "Particle added to liquid: b2Body(active=True,\n",
      "       angle=0.0,\n",
      "       angularDamping=0.0,\n",
      "       angularVelocity=0.0,\n",
      "       awake=True,\n",
      "       bullet=False,\n",
      "       contacts=[],\n",
      "       fixedRotation=False,\n",
      "       fixtures=[b2Fixture(body=b2Body(active=True,\n",
      "                                      angle=0.0,\n",
      "                                      angularDamping=0.0,\n",
      "                                      angularVelocity=0.0,\n",
      "                                      awake=True,...  )],\n",
      "       inertia=2.513274557713885e-05,\n",
      "       joints=[],\n",
      "       linearDamping=0.0,\n",
      "       linearVelocity=b2Vec2(0,0),\n",
      "       localCenter=b2Vec2(0,0),\n",
      "       mass=0.0012566371588036418,\n",
      "       massData=I=2.513274557713885e-05,center=b2Vec2(0,0),mass=0.0012566371588036418,),\n",
      "       position=b2Vec2(-1.38697,0.7),\n",
      "       sleepingAllowed=True,\n",
      "       transform=R=<Box2D.Box2D.b2Rot; proxy of <Swig Object of type 'b2Rot *' at 0x75c0ec55edc0> >,angle=0.0,position=b2Vec2(-1.38697,0.7),),\n",
      "       type=2,\n",
      "       userData='water',\n",
      "       worldCenter=b2Vec2(-1.38697,0.7),\n",
      "       )\n",
      "Creating particle 1 at position: b2Vec2(-0.986968,0.7)\n",
      "Creating particle at position: b2Vec2(-0.986968,0.7)\n",
      "Particle added to liquid: b2Body(active=True,\n",
      "       angle=0.0,\n",
      "       angularDamping=0.0,\n",
      "       angularVelocity=0.0,\n",
      "       awake=True,\n",
      "       bullet=False,\n",
      "       contacts=[],\n",
      "       fixedRotation=False,\n",
      "       fixtures=[b2Fixture(body=b2Body(active=True,\n",
      "                                      angle=0.0,\n",
      "                                      angularDamping=0.0,\n",
      "                                      angularVelocity=0.0,\n",
      "                                      awake=True,...  )],\n",
      "       inertia=2.513274557713885e-05,\n",
      "       joints=[],\n",
      "       linearDamping=0.0,\n",
      "       linearVelocity=b2Vec2(0,0),\n",
      "       localCenter=b2Vec2(0,0),\n",
      "       mass=0.0012566371588036418,\n",
      "       massData=I=2.513274557713885e-05,center=b2Vec2(0,0),mass=0.0012566371588036418,),\n",
      "       position=b2Vec2(-0.986968,0.7),\n",
      "       sleepingAllowed=True,\n",
      "       transform=R=<Box2D.Box2D.b2Rot; proxy of <Swig Object of type 'b2Rot *' at 0x75c0ec55ee80> >,angle=0.0,position=b2Vec2(-0.986968,0.7),),\n",
      "       type=2,\n",
      "       userData='water',\n",
      "       worldCenter=b2Vec2(-0.986968,0.7),\n",
      "       )\n",
      "Creating particle 2 at position: b2Vec2(-0.586968,0.7)\n",
      "Creating particle at position: b2Vec2(-0.586968,0.7)\n",
      "Particle added to liquid: b2Body(active=True,\n",
      "       angle=0.0,\n",
      "       angularDamping=0.0,\n",
      "       angularVelocity=0.0,\n",
      "       awake=True,\n",
      "       bullet=False,\n",
      "       contacts=[],\n",
      "       fixedRotation=False,\n",
      "       fixtures=[b2Fixture(body=b2Body(active=True,\n",
      "                                      angle=0.0,\n",
      "                                      angularDamping=0.0,\n",
      "                                      angularVelocity=0.0,\n",
      "                                      awake=True,...  )],\n",
      "       inertia=2.513274557713885e-05,\n",
      "       joints=[],\n",
      "       linearDamping=0.0,\n",
      "       linearVelocity=b2Vec2(0,0),\n",
      "       localCenter=b2Vec2(0,0),\n",
      "       mass=0.0012566371588036418,\n",
      "       massData=I=2.513274557713885e-05,center=b2Vec2(0,0),mass=0.0012566371588036418,),\n",
      "       position=b2Vec2(-0.586968,0.7),\n",
      "       sleepingAllowed=True,\n",
      "       transform=R=<Box2D.Box2D.b2Rot; proxy of <Swig Object of type 'b2Rot *' at 0x75c0ec55f030> >,angle=0.0,position=b2Vec2(-0.586968,0.7),),\n",
      "       type=2,\n",
      "       userData='water',\n",
      "       worldCenter=b2Vec2(-0.586968,0.7),\n",
      "       )\n",
      "Creating particle 3 at position: b2Vec2(-0.186968,0.7)\n",
      "Creating particle at position: b2Vec2(-0.186968,0.7)\n",
      "Particle added to liquid: b2Body(active=True,\n",
      "       angle=0.0,\n",
      "       angularDamping=0.0,\n",
      "       angularVelocity=0.0,\n",
      "       awake=True,\n",
      "       bullet=False,\n",
      "       contacts=[],\n",
      "       fixedRotation=False,\n",
      "       fixtures=[b2Fixture(body=b2Body(active=True,\n",
      "                                      angle=0.0,\n",
      "                                      angularDamping=0.0,\n",
      "                                      angularVelocity=0.0,\n",
      "                                      awake=True,...  )],\n",
      "       inertia=2.513274557713885e-05,\n",
      "       joints=[],\n",
      "       linearDamping=0.0,\n",
      "       linearVelocity=b2Vec2(0,0),\n",
      "       localCenter=b2Vec2(0,0),\n",
      "       mass=0.0012566371588036418,\n",
      "       massData=I=2.513274557713885e-05,center=b2Vec2(0,0),mass=0.0012566371588036418,),\n",
      "       position=b2Vec2(-0.186968,0.7),\n",
      "       sleepingAllowed=True,\n",
      "       transform=R=<Box2D.Box2D.b2Rot; proxy of <Swig Object of type 'b2Rot *' at 0x75c0ec55f480> >,angle=0.0,position=b2Vec2(-0.186968,0.7),),\n",
      "       type=2,\n",
      "       userData='water',\n",
      "       worldCenter=b2Vec2(-0.186968,0.7),\n",
      "       )\n",
      "Creating particle 4 at position: b2Vec2(0.213032,0.7)\n",
      "Creating particle at position: b2Vec2(0.213032,0.7)\n",
      "Particle added to liquid: b2Body(active=True,\n",
      "       angle=0.0,\n",
      "       angularDamping=0.0,\n",
      "       angularVelocity=0.0,\n",
      "       awake=True,\n",
      "       bullet=False,\n",
      "       contacts=[],\n",
      "       fixedRotation=False,\n",
      "       fixtures=[b2Fixture(body=b2Body(active=True,\n",
      "                                      angle=0.0,\n",
      "                                      angularDamping=0.0,\n",
      "                                      angularVelocity=0.0,\n",
      "                                      awake=True,...  )],\n",
      "       inertia=2.513274557713885e-05,\n",
      "       joints=[],\n",
      "       linearDamping=0.0,\n",
      "       linearVelocity=b2Vec2(0,0),\n",
      "       localCenter=b2Vec2(0,0),\n",
      "       mass=0.0012566371588036418,\n",
      "       massData=I=2.513274557713885e-05,center=b2Vec2(0,0),mass=0.0012566371588036418,),\n",
      "       position=b2Vec2(0.213032,0.7),\n",
      "       sleepingAllowed=True,\n",
      "       transform=R=<Box2D.Box2D.b2Rot; proxy of <Swig Object of type 'b2Rot *' at 0x75c0ec55ef70> >,angle=0.0,position=b2Vec2(0.213032,0.7),),\n",
      "       type=2,\n",
      "       userData='water',\n",
      "       worldCenter=b2Vec2(0.213032,0.7),\n",
      "       )\n",
      "Creating particle 5 at position: b2Vec2(0.613032,0.7)\n",
      "Creating particle at position: b2Vec2(0.613032,0.7)\n",
      "Particle added to liquid: b2Body(active=True,\n",
      "       angle=0.0,\n",
      "       angularDamping=0.0,\n",
      "       angularVelocity=0.0,\n",
      "       awake=True,\n",
      "       bullet=False,\n",
      "       contacts=[],\n",
      "       fixedRotation=False,\n",
      "       fixtures=[b2Fixture(body=b2Body(active=True,\n",
      "                                      angle=0.0,\n",
      "                                      angularDamping=0.0,\n",
      "                                      angularVelocity=0.0,\n",
      "                                      awake=True,...  )],\n",
      "       inertia=2.513274557713885e-05,\n",
      "       joints=[],\n",
      "       linearDamping=0.0,\n",
      "       linearVelocity=b2Vec2(0,0),\n",
      "       localCenter=b2Vec2(0,0),\n",
      "       mass=0.0012566371588036418,\n",
      "       massData=I=2.513274557713885e-05,center=b2Vec2(0,0),mass=0.0012566371588036418,),\n",
      "       position=b2Vec2(0.613032,0.7),\n",
      "       sleepingAllowed=True,\n",
      "       transform=R=<Box2D.Box2D.b2Rot; proxy of <Swig Object of type 'b2Rot *' at 0x75c0ec55fe10> >,angle=0.0,position=b2Vec2(0.613032,0.7),),\n",
      "       type=2,\n",
      "       userData='water',\n",
      "       worldCenter=b2Vec2(0.613032,0.7),\n",
      "       )\n",
      "Creating particle 6 at position: b2Vec2(1.01303,0.7)\n",
      "Creating particle at position: b2Vec2(1.01303,0.7)\n",
      "Particle added to liquid: b2Body(active=True,\n",
      "       angle=0.0,\n",
      "       angularDamping=0.0,\n",
      "       angularVelocity=0.0,\n",
      "       awake=True,\n",
      "       bullet=False,\n",
      "       contacts=[],\n",
      "       fixedRotation=False,\n",
      "       fixtures=[b2Fixture(body=b2Body(active=True,\n",
      "                                      angle=0.0,\n",
      "                                      angularDamping=0.0,\n",
      "                                      angularVelocity=0.0,\n",
      "                                      awake=True,...  )],\n",
      "       inertia=2.513274557713885e-05,\n",
      "       joints=[],\n",
      "       linearDamping=0.0,\n",
      "       linearVelocity=b2Vec2(0,0),\n",
      "       localCenter=b2Vec2(0,0),\n",
      "       mass=0.0012566371588036418,\n",
      "       massData=I=2.513274557713885e-05,center=b2Vec2(0,0),mass=0.0012566371588036418,),\n",
      "       position=b2Vec2(1.01303,0.7),\n",
      "       sleepingAllowed=True,\n",
      "       transform=R=<Box2D.Box2D.b2Rot; proxy of <Swig Object of type 'b2Rot *' at 0x75c0ec55fab0> >,angle=0.0,position=b2Vec2(1.01303,0.7),),\n",
      "       type=2,\n",
      "       userData='water',\n",
      "       worldCenter=b2Vec2(1.01303,0.7),\n",
      "       )\n",
      "Creating particle 7 at position: b2Vec2(1.41303,0.7)\n",
      "Creating particle at position: b2Vec2(1.41303,0.7)\n",
      "Particle added to liquid: b2Body(active=True,\n",
      "       angle=0.0,\n",
      "       angularDamping=0.0,\n",
      "       angularVelocity=0.0,\n",
      "       awake=True,\n",
      "       bullet=False,\n",
      "       contacts=[],\n",
      "       fixedRotation=False,\n",
      "       fixtures=[b2Fixture(body=b2Body(active=True,\n",
      "                                      angle=0.0,\n",
      "                                      angularDamping=0.0,\n",
      "                                      angularVelocity=0.0,\n",
      "                                      awake=True,...  )],\n",
      "       inertia=2.513274557713885e-05,\n",
      "       joints=[],\n",
      "       linearDamping=0.0,\n",
      "       linearVelocity=b2Vec2(0,0),\n",
      "       localCenter=b2Vec2(0,0),\n",
      "       mass=0.0012566371588036418,\n",
      "       massData=I=2.513274557713885e-05,center=b2Vec2(0,0),mass=0.0012566371588036418,),\n",
      "       position=b2Vec2(1.41303,0.7),\n",
      "       sleepingAllowed=True,\n",
      "       transform=R=<Box2D.Box2D.b2Rot; proxy of <Swig Object of type 'b2Rot *' at 0x75c0ec55fea0> >,angle=0.0,position=b2Vec2(1.41303,0.7),),\n",
      "       type=2,\n",
      "       userData='water',\n",
      "       worldCenter=b2Vec2(1.41303,0.7),\n",
      "       )\n",
      "Creating particle 8 at position: b2Vec2(-1.3609,1.1)\n",
      "Creating particle at position: b2Vec2(-1.3609,1.1)\n",
      "Particle added to liquid: b2Body(active=True,\n",
      "       angle=0.0,\n",
      "       angularDamping=0.0,\n",
      "       angularVelocity=0.0,\n",
      "       awake=True,\n",
      "       bullet=False,\n",
      "       contacts=[],\n",
      "       fixedRotation=False,\n",
      "       fixtures=[b2Fixture(body=b2Body(active=True,\n",
      "                                      angle=0.0,\n",
      "                                      angularDamping=0.0,\n",
      "                                      angularVelocity=0.0,\n",
      "                                      awake=True,...  )],\n",
      "       inertia=2.513274557713885e-05,\n",
      "       joints=[],\n",
      "       linearDamping=0.0,\n",
      "       linearVelocity=b2Vec2(0,0),\n",
      "       localCenter=b2Vec2(0,0),\n",
      "       mass=0.0012566371588036418,\n",
      "       massData=I=2.513274557713885e-05,center=b2Vec2(0,0),mass=0.0012566371588036418,),\n",
      "       position=b2Vec2(-1.3609,1.1),\n",
      "       sleepingAllowed=True,\n",
      "       transform=R=<Box2D.Box2D.b2Rot; proxy of <Swig Object of type 'b2Rot *' at 0x75c0ec55fe40> >,angle=0.0,position=b2Vec2(-1.3609,1.1),),\n",
      "       type=2,\n",
      "       userData='water',\n",
      "       worldCenter=b2Vec2(-1.3609,1.1),\n",
      "       )\n",
      "Creating particle 9 at position: b2Vec2(-0.960903,1.1)\n",
      "Creating particle at position: b2Vec2(-0.960903,1.1)\n",
      "Particle added to liquid: b2Body(active=True,\n",
      "       angle=0.0,\n",
      "       angularDamping=0.0,\n",
      "       angularVelocity=0.0,\n",
      "       awake=True,\n",
      "       bullet=False,\n",
      "       contacts=[],\n",
      "       fixedRotation=False,\n",
      "       fixtures=[b2Fixture(body=b2Body(active=True,\n",
      "                                      angle=0.0,\n",
      "                                      angularDamping=0.0,\n",
      "                                      angularVelocity=0.0,\n",
      "                                      awake=True,...  )],\n",
      "       inertia=2.513274557713885e-05,\n",
      "       joints=[],\n",
      "       linearDamping=0.0,\n",
      "       linearVelocity=b2Vec2(0,0),\n",
      "       localCenter=b2Vec2(0,0),\n",
      "       mass=0.0012566371588036418,\n",
      "       massData=I=2.513274557713885e-05,center=b2Vec2(0,0),mass=0.0012566371588036418,),\n",
      "       position=b2Vec2(-0.960903,1.1),\n",
      "       sleepingAllowed=True,\n",
      "       transform=R=<Box2D.Box2D.b2Rot; proxy of <Swig Object of type 'b2Rot *' at 0x75c0ec55fc90> >,angle=0.0,position=b2Vec2(-0.960903,1.1),),\n",
      "       type=2,\n",
      "       userData='water',\n",
      "       worldCenter=b2Vec2(-0.960903,1.1),\n",
      "       )\n"
     ]
    },
    {
     "data": {
      "image/png": "[encoded data removed]",
      "text/plain": [
       "<Figure size 640x480 with 1 Axes>"
      ]
     },
     "metadata": {},
     "output_type": "display_data"
    }
   ],
   "source": [
    "!pip install pandas==1.5.3\n",
    "!pip install stable-baselines3\n",
    "!pip install gpy\n",
    "!pip install pyribbit\n",
    "!pip install imageio\n",
    "import gym\n",
    "import numpy as np\n",
    "from gym import spaces\n",
    "from kitchen2d.kitchen_stuff import Kitchen2D\n",
    "import active_learners.helper as helper\n",
    "import kitchen2d.kitchen_stuff as ks\n",
    "from kitchen2d.gripper import Gripper\n",
    "from stable_baselines3 import SAC\n",
    "from stable_baselines3.common.vec_env import DummyVecEnv\n",
    "import matplotlib.pyplot as plt\n",
    "import torch\n",
    "import torch.nn.functional as F\n",
    "from torch.optim.lr_scheduler import StepLR\n",
    "import gcl.agentVPG as gcl  # Ensure this module is correctly referenced\n",
    "\n",
    "\n",
    "class KitchenEnv(gym.Env):\n",
    "    def __init__(self, setting):\n",
    "        super(KitchenEnv, self).__init__()\n",
    "        self.setting = setting\n",
    "        self.kitchen = Kitchen2D(**self.setting)\n",
    "        self.gripper = None\n",
    "        self.cup1 = None\n",
    "        self.cup2 = None\n",
    "        self.liquid = None\n",
    "\n",
    "        self.action_space = spaces.Box(\n",
    "            low=np.array([-1.0, -1.0, -np.pi]), \n",
    "            high=np.array([1.0, 1.0, np.pi]), \n",
    "            dtype=np.float32\n",
    "        )\n",
    "\n",
    "        self.observation_space = spaces.Box(low=-np.inf, high=np.inf, shape=(8,), dtype=np.float32)\n",
    "\n",
    "        self.expid_pour = 0\n",
    "        self.expid_scoop = 0\n",
    "        self.objects_created = False\n",
    "        self._create_objects()\n",
    "\n",
    "        self.fig, self.ax = plt.subplots()\n",
    "        self.render_initialized = False\n",
    "\n",
    "    def reset(self, seed=None, **kwargs):\n",
    "        \"\"\"Reset the environment and return the initial state.\"\"\"\n",
    "        np.random.seed(seed)\n",
    "        if not self.objects_created:\n",
    "            self._create_objects()\n",
    "            self.objects_created = True\n",
    "        \n",
    "        state = np.zeros(self.observation_space.shape, dtype=np.float32)  \n",
    "        info = {}  \n",
    "        return state, info\n",
    "\n",
    "    def step(self, action):\n",
    "        \"\"\"Take a step in the environment based on the action.\"\"\"\n",
    "        dx, dy, dtheta = action  \n",
    "        \n",
    "        new_x = np.clip(self.gripper.position[0] + dx, -30, 30)\n",
    "        new_y = np.clip(self.gripper.position[1] + dy, -10, 20)\n",
    "        new_theta = np.clip(self.gripper.angle + dtheta, -np.pi, np.pi)\n",
    "        self.gripper.find_path((new_x, new_y), new_theta)  \n",
    "        self.gripper.release()\n",
    "\n",
    "        grasp_successful = self.gripper.grasp(self.cup1, action[:2])\n",
    "\n",
    "        self.render()\n",
    "\n",
    "        if grasp_successful:\n",
    "            gp_pour, c_pour = helper.process_gp_sample(self.expid_pour, exp='pour', is_adaptive=False, flag_lk=False)\n",
    "            grasp, rel_x, rel_y, dangle, *_ = gp_pour.sample(c_pour)\n",
    "            dangle *= np.sign(rel_x)\n",
    "            pour_successful, pos_ratio = self.gripper.pour(self.cup2, (rel_x, rel_y), dangle)\n",
    "\n",
    "            if pour_successful and pos_ratio > 0.9:\n",
    "                reward = 10\n",
    "                done = True\n",
    "                self.gripper.place((15, 0), 0)\n",
    "                self.kitchen.liquid.remove_particles_in_cup(self.cup2)\n",
    "                self.kitchen.gen_liquid_in_cup(self.cup1, N=10, userData='water')\n",
    "            else:\n",
    "                reward = -10\n",
    "                done = True\n",
    "                self.kitchen.liquid.remove_particles_in_cup(self.cup2)\n",
    "                self.kitchen.liquid.remove_particles_outside_cup()\n",
    "                self._reset_cup1()\n",
    "                self._reset_gripper()\n",
    "        else:\n",
    "            reward = -10\n",
    "            done = True\n",
    "            self.kitchen.liquid.remove_particles_in_cup(self.cup2)\n",
    "            self._reset_gripper()\n",
    "\n",
    "        self.render()\n",
    "        state = np.array([\n",
    "            self.gripper.position[0], self.gripper.position[1], self.gripper.angle, \n",
    "            self.cup1.position[0], self.cup1.position[1], \n",
    "            self.cup2.position[0], self.cup2.position[1], \n",
    "            len(self.kitchen.liquid.particles)\n",
    "        ], dtype=np.float32)\n",
    "        info = {}\n",
    "\n",
    "        return state, reward, done, False, info\n",
    "\n",
    "    def render(self):\n",
    "        \"\"\"Render the environment using matplotlib.\"\"\"\n",
    "        if not self.render_initialized:\n",
    "            self.ax.set_xlim(-30, 30)\n",
    "            self.ax.set_ylim(-10, 20)\n",
    "            self.gripper_plot, = self.ax.plot([], [], \"ro\", label=\"Gripper\") \n",
    "            self.cup1_plot, = self.ax.plot([], [], \"yo\", label=\"Cup1\")        \n",
    "            self.cup2_plot, = self.ax.plot([], [], \"go\", label=\"Cup2\")        \n",
    "            self.water_plot = []\n",
    "            self.ax.legend()\n",
    "            self.render_initialized = True\n",
    "\n",
    "        self.gripper_plot.set_data(self.gripper.position[0], self.gripper.position[1])\n",
    "        self.cup1_plot.set_data(self.cup1.position[0], self.cup1.position[1])\n",
    "        self.cup2_plot.set_data(self.cup2.position[0], self.cup2.position[1])\n",
    "\n",
    "    def _create_objects(self):\n",
    "        \"\"\"Create and initialize objects like gripper, cups, etc.\"\"\"\n",
    "        if self.cup1 is None:\n",
    "            pour_from_w, pour_from_h, pour_to_w, pour_to_h = helper.process_gp_sample(self.expid_pour, exp='pour', is_adaptive=False, flag_lk=False)[1]\n",
    "            holder_d = 0.5\n",
    "            self.gripper = Gripper(self.kitchen, (0, 8), 0)\n",
    "            self.cup1 = ks.make_cup(self.kitchen, (15, 0), 0, pour_from_w, pour_from_h, holder_d)\n",
    "            self.cup2 = ks.make_cup(self.kitchen, (-25, 0), 0, pour_to_w, pour_to_h, holder_d)\n",
    "            self.kitchen.gen_liquid_in_cup(self.cup1, N=10, userData='water')  \n",
    "\n",
    "    def _reset_gripper(self):\n",
    "        self.gripper.position = (0, 8)\n",
    "\n",
    "    def _reset_cup1(self):\n",
    "        self.cup1.position = (15, 0)\n",
    "        self.kitchen.liquid.remove_particles_in_cup(self.cup1)\n",
    "        self.kitchen.gen_liquid_in_cup(self.cup1, N=10, userData='water') \n",
    "\n",
    "    def close(self):\n",
    "        plt.close(self.fig)\n",
    "\n",
    "\n",
    "def make_env():\n",
    "    setting = {\n",
    "        'do_gui': False,  \n",
    "        'left_table_width': 50.,\n",
    "        'right_table_width': 50.,\n",
    "        'planning': False,\n",
    "        'overclock': 5 \n",
    "    }\n",
    "    return KitchenEnv(setting)\n",
    "\n",
    "\n",
    "env = make_env()  \n",
    "state, info = env.reset()\n",
    "\n",
    "n_actions = env.action_space.shape[0]  \n",
    "state_shape = env.observation_space.shape  \n"
   ]
  },
  {
   "cell_type": "markdown",
   "metadata": {},
   "source": [
    "## getting demo trajectories"
   ]
  },
  {
   "cell_type": "code",
   "execution_count": 41,
   "metadata": {
    "ExecuteTime": {
     "end_time": "2020-06-18T20:42:36.711162Z",
     "start_time": "2020-06-18T20:42:36.705314Z"
    }
   },
   "outputs": [],
   "source": [
    "model = gcl.AgentVPG(state_shape, n_actions, 'toy')"
   ]
  },
  {
   "cell_type": "code",
   "execution_count": 42,
   "metadata": {
    "ExecuteTime": {
     "end_time": "2020-06-18T20:42:36.721699Z",
     "start_time": "2020-06-18T20:42:36.713767Z"
    }
   },
   "outputs": [],
   "source": [
    "optimizer = torch.optim.Adam(model.parameters(), 1e-3)\n",
    "scheduler = StepLR(optimizer, step_size=1000, gamma=0.9)"
   ]
  },
  {
   "cell_type": "code",
   "execution_count": 46,
   "metadata": {
    "ExecuteTime": {
     "end_time": "2020-06-18T20:45:52.800869Z",
     "start_time": "2020-06-18T20:42:36.735467Z"
    }
   },
   "outputs": [
    {
     "ename": "TypeError",
     "evalue": "can't convert np.ndarray of type numpy.object_. The only supported types are: float64, float32, float16, complex64, complex128, int64, int32, int16, int8, uint64, uint32, uint16, uint8, and bool.",
     "output_type": "error",
     "traceback": [
      "\u001b[0;31m---------------------------------------------------------------------------\u001b[0m",
      "\u001b[0;31mTypeError\u001b[0m                                 Traceback (most recent call last)",
      "Cell \u001b[0;32mIn[46], line 5\u001b[0m\n\u001b[1;32m      3\u001b[0m mean_rewards \u001b[38;5;241m=\u001b[39m []\n\u001b[1;32m      4\u001b[0m \u001b[38;5;28;01mfor\u001b[39;00m i \u001b[38;5;129;01min\u001b[39;00m \u001b[38;5;28mrange\u001b[39m(\u001b[38;5;241m100\u001b[39m):\n\u001b[0;32m----> 5\u001b[0m     rewards \u001b[38;5;241m=\u001b[39m [train_vpg_on_session(model, env, \u001b[38;5;241m*\u001b[39mmodel\u001b[38;5;241m.\u001b[39mgenerate_session(env), optimizer)\n\u001b[1;32m      6\u001b[0m                \u001b[38;5;28;01mfor\u001b[39;00m _ \u001b[38;5;129;01min\u001b[39;00m \u001b[38;5;28mrange\u001b[39m(\u001b[38;5;241m100\u001b[39m)] \n\u001b[1;32m      7\u001b[0m     mean_rewards\u001b[38;5;241m.\u001b[39mappend(np\u001b[38;5;241m.\u001b[39mmean(rewards))\n\u001b[1;32m      9\u001b[0m     \u001b[38;5;28;01mif\u001b[39;00m i \u001b[38;5;241m%\u001b[39m \u001b[38;5;241m5\u001b[39m \u001b[38;5;241m==\u001b[39m \u001b[38;5;241m0\u001b[39m:  \u001b[38;5;66;03m# Fix condition (before it was incorrect)\u001b[39;00m\n",
      "Cell \u001b[0;32mIn[46], line 5\u001b[0m, in \u001b[0;36m<listcomp>\u001b[0;34m(.0)\u001b[0m\n\u001b[1;32m      3\u001b[0m mean_rewards \u001b[38;5;241m=\u001b[39m []\n\u001b[1;32m      4\u001b[0m \u001b[38;5;28;01mfor\u001b[39;00m i \u001b[38;5;129;01min\u001b[39;00m \u001b[38;5;28mrange\u001b[39m(\u001b[38;5;241m100\u001b[39m):\n\u001b[0;32m----> 5\u001b[0m     rewards \u001b[38;5;241m=\u001b[39m [train_vpg_on_session(model, env, \u001b[38;5;241m*\u001b[39m\u001b[43mmodel\u001b[49m\u001b[38;5;241;43m.\u001b[39;49m\u001b[43mgenerate_session\u001b[49m\u001b[43m(\u001b[49m\u001b[43menv\u001b[49m\u001b[43m)\u001b[49m, optimizer)\n\u001b[1;32m      6\u001b[0m                \u001b[38;5;28;01mfor\u001b[39;00m _ \u001b[38;5;129;01min\u001b[39;00m \u001b[38;5;28mrange\u001b[39m(\u001b[38;5;241m100\u001b[39m)] \n\u001b[1;32m      7\u001b[0m     mean_rewards\u001b[38;5;241m.\u001b[39mappend(np\u001b[38;5;241m.\u001b[39mmean(rewards))\n\u001b[1;32m      9\u001b[0m     \u001b[38;5;28;01mif\u001b[39;00m i \u001b[38;5;241m%\u001b[39m \u001b[38;5;241m5\u001b[39m \u001b[38;5;241m==\u001b[39m \u001b[38;5;241m0\u001b[39m:  \u001b[38;5;66;03m# Fix condition (before it was incorrect)\u001b[39;00m\n",
      "File \u001b[0;32m~/Kitchen2D/gcl/agentVPG.py:57\u001b[0m, in \u001b[0;36mAgentVPG.generate_session\u001b[0;34m(self, env, t_max)\u001b[0m\n\u001b[1;32m     54\u001b[0m s \u001b[38;5;241m=\u001b[39m env\u001b[38;5;241m.\u001b[39mreset()\n\u001b[1;32m     56\u001b[0m \u001b[38;5;28;01mfor\u001b[39;00m t \u001b[38;5;129;01min\u001b[39;00m \u001b[38;5;28mrange\u001b[39m(t_max):\n\u001b[0;32m---> 57\u001b[0m     action_probs \u001b[38;5;241m=\u001b[39m \u001b[38;5;28;43mself\u001b[39;49m\u001b[38;5;241;43m.\u001b[39;49m\u001b[43mpredict_probs\u001b[49m\u001b[43m(\u001b[49m\u001b[43mnp\u001b[49m\u001b[38;5;241;43m.\u001b[39;49m\u001b[43marray\u001b[49m\u001b[43m(\u001b[49m\u001b[43m[\u001b[49m\u001b[43ms\u001b[49m\u001b[43m]\u001b[49m\u001b[43m)\u001b[49m\u001b[43m)\u001b[49m[\u001b[38;5;241m0\u001b[39m]\n\u001b[1;32m     58\u001b[0m     a \u001b[38;5;241m=\u001b[39m np\u001b[38;5;241m.\u001b[39mrandom\u001b[38;5;241m.\u001b[39mchoice(\u001b[38;5;28mself\u001b[39m\u001b[38;5;241m.\u001b[39mn_actions,  p \u001b[38;5;241m=\u001b[39m action_probs)\n\u001b[1;32m     59\u001b[0m     new_s, r, done, info \u001b[38;5;241m=\u001b[39m env\u001b[38;5;241m.\u001b[39mstep(a)\n",
      "File \u001b[0;32m~/Kitchen2D/gcl/agentVPG.py:47\u001b[0m, in \u001b[0;36mAgentVPG.predict_probs\u001b[0;34m(self, states)\u001b[0m\n\u001b[1;32m     46\u001b[0m \u001b[38;5;28;01mdef\u001b[39;00m \u001b[38;5;21mpredict_probs\u001b[39m(\u001b[38;5;28mself\u001b[39m, states):\n\u001b[0;32m---> 47\u001b[0m     states \u001b[38;5;241m=\u001b[39m \u001b[43mtorch\u001b[49m\u001b[38;5;241;43m.\u001b[39;49m\u001b[43mFloatTensor\u001b[49m\u001b[43m(\u001b[49m\u001b[43mstates\u001b[49m\u001b[43m)\u001b[49m\n\u001b[1;32m     48\u001b[0m     logits \u001b[38;5;241m=\u001b[39m \u001b[38;5;28mself\u001b[39m\u001b[38;5;241m.\u001b[39mmodel(states)\u001b[38;5;241m.\u001b[39mdetach()\n\u001b[1;32m     49\u001b[0m     probs \u001b[38;5;241m=\u001b[39m F\u001b[38;5;241m.\u001b[39msoftmax(logits, dim \u001b[38;5;241m=\u001b[39m \u001b[38;5;241m-\u001b[39m\u001b[38;5;241m1\u001b[39m)\u001b[38;5;241m.\u001b[39mnumpy()\n",
      "\u001b[0;31mTypeError\u001b[0m: can't convert np.ndarray of type numpy.object_. The only supported types are: float64, float32, float16, complex64, complex128, int64, int32, int16, int8, uint64, uint32, uint16, uint8, and bool."
     ]
    }
   ],
   "source": [
    "from gcl.train import train_vpg_on_session  # Correct module import\n",
    "\n",
    "mean_rewards = []\n",
    "for i in range(100):\n",
    "    rewards = [train_vpg_on_session(model, env, *model.generate_session(env), optimizer)\n",
    "               for _ in range(100)] \n",
    "    mean_rewards.append(np.mean(rewards))\n",
    "    \n",
    "    if i % 5 == 0:  # Fix condition (before it was incorrect)\n",
    "        print(\"Mean reward: %.3f\" % (np.mean(rewards)))\n",
    "        plt.figure(figsize=[9, 6])\n",
    "        plt.title(\"Mean reward per 100 games\")\n",
    "        plt.plot(mean_rewards)\n",
    "        plt.grid()\n",
    "        plt.show()\n",
    "    \n",
    "    if np.mean(rewards) > 500:\n",
    "        print(\"Stopping early: reward threshold reached.\")\n",
    "        break\n"
   ]
  },
  {
   "cell_type": "code",
   "execution_count": 9,
   "metadata": {
    "ExecuteTime": {
     "end_time": "2020-06-18T20:45:52.819556Z",
     "start_time": "2020-06-18T20:45:52.807870Z"
    }
   },
   "outputs": [],
   "source": [
    "torch.save(model.state_dict(), 'model_vpg.pt')\n",
    "#model.load_state_dict('model_vpg.pt')"
   ]
  },
  {
   "cell_type": "code",
   "execution_count": 10,
   "metadata": {
    "ExecuteTime": {
     "end_time": "2020-06-18T20:45:52.837224Z",
     "start_time": "2020-06-18T20:45:52.826132Z"
    }
   },
   "outputs": [],
   "source": [
    "num_demo = 500"
   ]
  },
  {
   "cell_type": "code",
   "execution_count": 11,
   "metadata": {
    "ExecuteTime": {
     "end_time": "2020-06-18T20:51:40.373586Z",
     "start_time": "2020-06-18T20:45:52.845748Z"
    }
   },
   "outputs": [],
   "source": [
    "demo_samples = [model.generate_session(env) for i in range(num_demo)]"
   ]
  },
  {
   "cell_type": "markdown",
   "metadata": {},
   "source": [
    "## GCL training"
   ]
  },
  {
   "cell_type": "markdown",
   "metadata": {},
   "source": [
    "We take cost function architecture from the paper (section 6.1). For the cartpole it might be overkill. Let's see."
   ]
  },
  {
   "cell_type": "markdown",
   "metadata": {},
   "source": [
    "We're supposed to have regularization on weights and some not straightforward thing to calculate the cost. We'll make the framework so that it could be expanded in the future, but for now we won't be doing this equation (2)"
   ]
  },
  {
   "cell_type": "code",
   "execution_count": 12,
   "metadata": {
    "ExecuteTime": {
     "end_time": "2020-06-18T20:51:40.379529Z",
     "start_time": "2020-06-18T20:51:40.374997Z"
    }
   },
   "outputs": [],
   "source": [
    "new_model = gcl.AgentVPG(state_shape, n_actions, 'toy')\n",
    "cost = gcl.CostNN(state_shape)\n",
    "optimizer_model = torch.optim.Adam(new_model.parameters(), 1e-3)\n",
    "optimizer_cost = torch.optim.Adam(cost.parameters(), 1e-3)"
   ]
  },
  {
   "cell_type": "code",
   "execution_count": 13,
   "metadata": {
    "ExecuteTime": {
     "end_time": "2020-06-18T20:54:33.215652Z",
     "start_time": "2020-06-18T20:51:40.381041Z"
    }
   },
   "outputs": [
    {
     "name": "stdout",
     "output_type": "stream",
     "text": [
      "mean reward:9.000\n"
     ]
    },
    {
     "data": {
      "image/png": "[encoded data removed]",
      "text/plain": [
       "<Figure size 1152x432 with 2 Axes>"
      ]
     },
     "metadata": {
      "needs_background": "light"
     },
     "output_type": "display_data"
    }
   ],
   "source": [
    "mean_rewards = []\n",
    "mean_costs = []\n",
    "size = 100\n",
    "samples = [new_model.generate_session(env) for _ in range(int(size/2))]\n",
    "for i in range(100):\n",
    "    traj = [new_model.generate_session(env) for _ in range(int(size))]\n",
    "    samples = samples + traj\n",
    "    #generate samples\n",
    "    demo_trajs_ids = np.random.choice(range(len(demo_samples)), size)\n",
    "    demo_trajs = np.array(demo_samples)[demo_trajs_ids]\n",
    "    #sampled_trajs_ids = np.random.choice(range(len(samples)), size)\n",
    "    sampled_trajs = traj#np.array(samples)[sampled_trajs_ids]\n",
    "    rewards, costs = [],  []\n",
    "    for (demo_traj, sampled_traj) in zip(demo_trajs, sampled_trajs):\n",
    "        rew, cost_item = gcl.train_gcl_on_session(\n",
    "                        new_model,\n",
    "                        env,\n",
    "                        cost, \n",
    "                        demo_traj,\n",
    "                        sampled_traj,\n",
    "                        optimizer_model, \n",
    "                        optimizer_cost,\n",
    "                    )\n",
    "    \n",
    "    rewards.append(rew)\n",
    "    costs.append(cost_item)\n",
    "    mean_rewards.append(np.mean(rewards))\n",
    "    mean_costs.append(np.mean(costs))\n",
    "    \n",
    "    if i % 5:\n",
    "        clear_output(True)\n",
    "        print(\"mean reward:%.3f\" % (np.mean(rewards)))\n",
    "        \n",
    "        plt.figure(figsize=[16, 6])\n",
    "        plt.subplot(1, 2, 1)\n",
    "\n",
    "        plt.title(f\"Mean reward per {size} games\")\n",
    "        plt.plot(mean_rewards)\n",
    "        plt.grid()\n",
    "\n",
    "        \n",
    "        plt.subplot(1, 2, 2)\n",
    "        plt.title(f\"Mean cost per {size} games\")\n",
    "        plt.plot(mean_costs)\n",
    "        plt.grid()\n",
    "        \n",
    "        plt.show()\n",
    "\n",
    "    \n",
    "    if np.mean(rewards) > 500:\n",
    "        break"
   ]
  },
  {
   "cell_type": "markdown",
   "metadata": {},
   "source": [
    "# Training on Atari "
   ]
  },
  {
   "cell_type": "markdown",
   "metadata": {},
   "source": [
    "Unfortunately, my too basic knowledge of RL made it impossible to run it on Atari envs in time, despite all my attempts.  "
   ]
  }
 ],
 "metadata": {
  "hide_input": false,
  "kernelspec": {
   "display_name": "Python 3 (ipykernel)",
   "language": "python",
   "name": "python3"
  },
  "language_info": {
   "codemirror_mode": {
    "name": "ipython",
    "version": 3
   },
   "file_extension": ".py",
   "mimetype": "text/x-python",
   "name": "python",
   "nbconvert_exporter": "python",
   "pygments_lexer": "ipython3",
   "version": "3.10.12"
  },
  "toc": {
   "base_numbering": 1,
   "nav_menu": {},
   "number_sections": true,
   "sideBar": true,
   "skip_h1_title": false,
   "title_cell": "Table of Contents",
   "title_sidebar": "Contents",
   "toc_cell": false,
   "toc_position": {},
   "toc_section_display": true,
   "toc_window_display": false
  }
 },
 "nbformat": 4,
 "nbformat_minor": 4
}
